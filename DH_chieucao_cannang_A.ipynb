{
 "cells": [
  {
   "cell_type": "markdown",
   "metadata": {},
   "source": [
    "Bài minh họa cho cách tính bằng công thức, dữ liệu trực tiếp chiu cao- cân nặng\n",
    "G:\\My Drive\\CT_PYTHON\\ML_regression.py"
   ]
  },
  {
   "cell_type": "code",
   "execution_count": 4,
   "metadata": {},
   "outputs": [],
   "source": [
    "import numpy as np \n",
    "import matplotlib.pyplot as plt\n",
    "# height (cm), T là chuyển vị\n",
    "np.random.seed(2)\n",
    "X = np.array([[147, 150, 153, 158, 163, 165, 168, 170, 173, 175, 178, 180, 183]]).T\n",
    "# weight (kg)\n",
    "y = np.array([[ 60, 50, 51,  54, 58, 59, 60, 62, 63, 64, 66, 67, 68]]).T\n",
    "# Visualize data, ro màu vẽ và kiểu vẽ"
   ]
  },
  {
   "cell_type": "code",
   "execution_count": 5,
   "metadata": {},
   "outputs": [
    {
     "name": "stdout",
     "output_type": "stream",
     "text": [
      "w= [[-11.21750775]\n",
      " [  0.42895405]]\n"
     ]
    }
   ],
   "source": [
    "#Tổ chức lại các mảng, xây dựng phương trình và giải tính w\n",
    "one = np.ones((X.shape[0], 1))\n",
    "Xbar = np.concatenate((one, X), axis = 1)\n",
    "# Calculating weights of the fitting line, dot là nhân ma trận\n",
    "A = np.dot(Xbar.T, Xbar)\n",
    "b = np.dot(Xbar.T, y)\n",
    "Acong=np.linalg.pinv(A)\n",
    "w = np.dot(Acong, b)\n",
    "print(\"w=\",w)\n"
   ]
  },
  {
   "cell_type": "code",
   "execution_count": 7,
   "metadata": {},
   "outputs": [
    {
     "data": {
      "image/png": "[encoded data removed]",
      "text/plain": [
       "<Figure size 432x288 with 1 Axes>"
      ]
     },
     "metadata": {
      "needs_background": "light"
     },
     "output_type": "display_data"
    }
   ],
   "source": [
    "# Vẽ\n",
    "w_0 = w[0][0]\n",
    "w_1 = w[1][0]\n",
    "x0 = np.linspace(147, 183, 5, endpoint=True)\n",
    "y0 = w_0 + w_1*x0\n",
    "# Drawing the fitting line \n",
    "plt.plot(X.T, y.T, 'ro')     # data \n",
    "plt.plot(x0, y0)               # the fitting line vẽ đường đi gấp khúc qua 5 điểm\n",
    "plt.axis([147, 183, 49,68])\n",
    "plt.xlabel('Chiều cao (cm)')\n",
    "plt.ylabel('Cân nặng (kg)')\n",
    "plt.show()"
   ]
  },
  {
   "cell_type": "code",
   "execution_count": 12,
   "metadata": {},
   "outputs": [
    {
     "name": "stdout",
     "output_type": "stream",
     "text": [
      "71.50465181845237\n"
     ]
    }
   ],
   "source": [
    "# Tính cho 1 người cao 187cm\n",
    "x0=187\n",
    "y0 = w_0 + w_1*x0\n",
    "print(y0)"
   ]
  },
  {
   "cell_type": "code",
   "execution_count": 8,
   "metadata": {},
   "outputs": [
    {
     "name": "stdout",
     "output_type": "stream",
     "text": [
      "Solution found by scikit-learn  :  [[0.         0.42895405]]\n",
      "[-11.21750775]\n"
     ]
    }
   ],
   "source": [
    "from sklearn.linear_model import LinearRegression \n",
    "#from sklearn import datasets, linear_model\n",
    "# fit the model by Linear Regression\n",
    "regr = LinearRegression() # fit_intercept = False for calculating the bias\n",
    "regr.fit(Xbar, y)\n",
    "# Compare two results\n",
    "print( 'Solution found by scikit-learn  : ', regr.coef_ )\n",
    "print(regr.intercept_)"
   ]
  },
  {
   "cell_type": "code",
   "execution_count": null,
   "metadata": {},
   "outputs": [],
   "source": []
  }
 ],
 "metadata": {
  "kernelspec": {
   "display_name": "Python 3",
   "language": "python",
   "name": "python3"
  },
  "language_info": {
   "codemirror_mode": {
    "name": "ipython",
    "version": 3
   },
   "file_extension": ".py",
   "mimetype": "text/x-python",
   "name": "python",
   "nbconvert_exporter": "python",
   "pygments_lexer": "ipython3",
   "version": "3.7.0"
  }
 },
 "nbformat": 4,
 "nbformat_minor": 2
}
