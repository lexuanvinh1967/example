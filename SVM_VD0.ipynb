{
 "cells": [
  {
   "cell_type": "code",
   "execution_count": 1,
   "metadata": {},
   "outputs": [],
   "source": [
    "from sklearn.svm import SVC\n",
    "import numpy as np"
   ]
  },
  {
   "cell_type": "code",
   "execution_count": 13,
   "metadata": {},
   "outputs": [
    {
     "data": {
      "image/png": "[encoded data removed]",
      "text/plain": [
       "<Figure size 432x288 with 1 Axes>"
      ]
     },
     "metadata": {
      "needs_background": "light"
     },
     "output_type": "display_data"
    }
   ],
   "source": [
    "N=10\n",
    "np.random.seed(1)\n",
    "cov = [[0.5, 0], [0, 0.5]]\n",
    "X1= np.random.multivariate_normal([1,1], cov, N)\n",
    "X2= np.random.multivariate_normal([2,2], cov, N)\n",
    "X= np.concatenate((X1,X2))\n",
    "y1= np.zeros(N)\n",
    "y2=np.ones(N)\n",
    "y= np.concatenate((y1,y2))\n",
    "import matplotlib.pyplot as plt\n",
    "plt.plot(X1[:,0],X1[:,1],'go')\n",
    "plt.plot(X2[:,0],X2[:,1],'ro')\n",
    "plt.show()\n"
   ]
  },
  {
   "cell_type": "code",
   "execution_count": 14,
   "metadata": {},
   "outputs": [
    {
     "data": {
      "text/plain": [
       "SVC(kernel='linear')"
      ]
     },
     "execution_count": 14,
     "metadata": {},
     "output_type": "execute_result"
    }
   ],
   "source": [
    "model = SVC(kernel='linear')\n",
    "model.fit(X,y)"
   ]
  },
  {
   "cell_type": "code",
   "execution_count": 15,
   "metadata": {},
   "outputs": [
    {
     "data": {
      "text/plain": [
       "1.0"
      ]
     },
     "execution_count": 15,
     "metadata": {},
     "output_type": "execute_result"
    }
   ],
   "source": [
    "model.predict(X)\n",
    "model.score(X,y)"
   ]
  },
  {
   "cell_type": "code",
   "execution_count": 16,
   "metadata": {},
   "outputs": [
    {
     "name": "stdout",
     "output_type": "stream",
     "text": [
      "w=  [[0.54577613 1.68747542]]\n",
      "b=  [-2.99832154]\n",
      "[[2.14858562 0.56742289]\n",
      " [2.23376823 0.46174544]\n",
      " [1.22559471 0.82366852]\n",
      " [1.02984963 1.41211259]\n",
      " [2.63700135 1.51653139]\n",
      " [1.91310349 1.33831109]\n",
      " [1.51092199 1.71945289]\n",
      " [1.51409552 1.40234936]]\n"
     ]
    },
    {
     "data": {
      "image/png": "[encoded data removed]",
      "text/plain": [
       "<Figure size 432x288 with 1 Axes>"
      ]
     },
     "metadata": {
      "needs_background": "light"
     },
     "output_type": "display_data"
    }
   ],
   "source": [
    "plt.plot(X1[:,0],X1[:,1],'go')\n",
    "plt.plot(X2[:,0],X2[:,1],'ro')\n",
    "w= model.coef_\n",
    "b= model.intercept_\n",
    "print(\"w= \",w)\n",
    "print(\"b= \",b)\n",
    "x=np.arange(np.amin(X[:,0]), np.amax(X[:,0]),0.2)\n",
    "y=-(w[0][0]/w[0][1])*x -b/w[0][1]\n",
    "plt.plot(x,y,'b')\n",
    "S=model.support_vectors_\n",
    "print(S)\n",
    "plt.scatter(S[:,0], S[:,1], c='y', s=200)\n",
    "plt.show()"
   ]
  },
  {
   "cell_type": "code",
   "execution_count": null,
   "metadata": {},
   "outputs": [],
   "source": []
  },
  {
   "cell_type": "code",
   "execution_count": null,
   "metadata": {},
   "outputs": [],
   "source": []
  }
 ],
 "metadata": {
  "kernelspec": {
   "display_name": "Python 3",
   "language": "python",
   "name": "python3"
  },
  "language_info": {
   "codemirror_mode": {
    "name": "ipython",
    "version": 3
   },
   "file_extension": ".py",
   "mimetype": "text/x-python",
   "name": "python",
   "nbconvert_exporter": "python",
   "pygments_lexer": "ipython3",
   "version": "3.7.1"
  }
 },
 "nbformat": 4,
 "nbformat_minor": 4
}
