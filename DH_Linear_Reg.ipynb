{
 "cells": [
  {
   "cell_type": "markdown",
   "metadata": {},
   "source": [
    "Ví dụ hồi quy tuyến tính - điểm của học sinh "
   ]
  },
  {
   "cell_type": "code",
   "execution_count": 1,
   "metadata": {},
   "outputs": [],
   "source": [
    "import numpy as np\n",
    "import pandas as pd\n",
    "from sklearn.linear_model import LinearRegression"
   ]
  },
  {
   "cell_type": "code",
   "execution_count": 2,
   "metadata": {},
   "outputs": [],
   "source": [
    "data = pd.read_csv('diemhs2.csv')\n",
    "X= data[['Toan12','NVan12','Anh12']]\n",
    "y=data['Thi']"
   ]
  },
  {
   "cell_type": "code",
   "execution_count": 5,
   "metadata": {},
   "outputs": [
    {
     "name": "stdout",
     "output_type": "stream",
     "text": [
      "[22.10315286 21.85769077 20.02333899 22.0179402  21.64688812 20.8257181\n",
      " 23.20462069 19.21117939 21.23995235 21.17545233 20.13431821 20.55525954\n",
      " 20.57310858 21.53635616 19.71855072]\n",
      "0     21.6\n",
      "1     21.9\n",
      "2     20.4\n",
      "3     22.5\n",
      "4     21.6\n",
      "5     21.0\n",
      "6     24.6\n",
      "7     18.9\n",
      "8     21.0\n",
      "9     20.4\n",
      "10    18.9\n",
      "11    20.4\n",
      "12    19.5\n",
      "13    21.0\n",
      "14    20.4\n",
      "Name: Thi, dtype: float64\n"
     ]
    }
   ],
   "source": [
    "MH=LinearRegression(fit_intercept=True)\n",
    "MH.fit(X,y)\n",
    "print(MH.predict(X.head(15)))\n",
    "print(y.head(15))"
   ]
  },
  {
   "cell_type": "markdown",
   "metadata": {},
   "source": [
    "In các hệ số tìm đươc"
   ]
  },
  {
   "cell_type": "code",
   "execution_count": 6,
   "metadata": {},
   "outputs": [
    {
     "name": "stdout",
     "output_type": "stream",
     "text": [
      "[0.80045737 0.79275658 0.3147993 ]\n",
      "8.027642186986307\n"
     ]
    }
   ],
   "source": [
    "print(MH.coef_)\n",
    "print(MH.intercept_)\n",
    "w=MH.coef_\n",
    "b=MH.intercept_"
   ]
  },
  {
   "cell_type": "markdown",
   "metadata": {},
   "source": [
    "Thử cho học sinh đầu tiên"
   ]
  },
  {
   "cell_type": "code",
   "execution_count": 7,
   "metadata": {},
   "outputs": [
    {
     "name": "stdout",
     "output_type": "stream",
     "text": [
      "0.8004573679545363 0.7927565783512616 0.31479930330163663\n",
      "22.103152858070146\n"
     ]
    }
   ],
   "source": [
    "print(w[0],w[1],w[2])\n",
    "print(sum(w*X.T[0])+b)"
   ]
  },
  {
   "cell_type": "code",
   "execution_count": null,
   "metadata": {},
   "outputs": [],
   "source": []
  }
 ],
 "metadata": {
  "kernelspec": {
   "display_name": "Python 3",
   "language": "python",
   "name": "python3"
  },
  "language_info": {
   "codemirror_mode": {
    "name": "ipython",
    "version": 3
   },
   "file_extension": ".py",
   "mimetype": "text/x-python",
   "name": "python",
   "nbconvert_exporter": "python",
   "pygments_lexer": "ipython3",
   "version": "3.7.0"
  }
 },
 "nbformat": 4,
 "nbformat_minor": 2
}
