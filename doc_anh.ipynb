{
 "cells": [
  {
   "cell_type": "code",
   "execution_count": 2,
   "metadata": {},
   "outputs": [],
   "source": [
    "import cv2"
   ]
  },
  {
   "cell_type": "code",
   "execution_count": 3,
   "metadata": {},
   "outputs": [],
   "source": [
    "anh = cv2.imread(\"C:/Users/DELL/Pictures/letotnghiep.jpg\")\n"
   ]
  },
  {
   "cell_type": "code",
   "execution_count": 4,
   "metadata": {},
   "outputs": [
    {
     "name": "stdout",
     "output_type": "stream",
     "text": [
      "(450, 800, 3)\n"
     ]
    }
   ],
   "source": [
    "print(anh.shape)"
   ]
  },
  {
   "cell_type": "code",
   "execution_count": 5,
   "metadata": {},
   "outputs": [
    {
     "name": "stdout",
     "output_type": "stream",
     "text": [
      "[[[ 39  48  81]\n",
      "  [ 42  50  87]\n",
      "  [ 49  57  97]\n",
      "  ...\n",
      "  [ 20   9  72]\n",
      "  [ 16   6  66]\n",
      "  [ 23  13  73]]\n",
      "\n",
      " [[ 37  48  76]\n",
      "  [ 43  52  85]\n",
      "  [ 41  50  87]\n",
      "  ...\n",
      "  [ 18   6  72]\n",
      "  [ 14   3  65]\n",
      "  [ 23  12  74]]\n",
      "\n",
      " [[ 54  64  88]\n",
      "  [ 55  64  91]\n",
      "  [ 40  51  81]\n",
      "  ...\n",
      "  [ 20   8  74]\n",
      "  [ 14   3  65]\n",
      "  [ 22  11  73]]\n",
      "\n",
      " ...\n",
      "\n",
      " [[ 61  71 131]\n",
      "  [ 51  61 121]\n",
      "  [ 21  30  93]\n",
      "  ...\n",
      "  [ 13   2  75]\n",
      "  [  9   1  66]\n",
      "  [ 12   3  66]]\n",
      "\n",
      " [[ 79  88 151]\n",
      "  [ 49  58 121]\n",
      "  [ 12  21  84]\n",
      "  ...\n",
      "  [ 15   0  86]\n",
      "  [ 15   4  74]\n",
      "  [ 15   4  67]]\n",
      "\n",
      " [[ 81  90 153]\n",
      "  [ 50  59 122]\n",
      "  [ 13  22  85]\n",
      "  ...\n",
      "  [ 14   0  85]\n",
      "  [ 14   3  73]\n",
      "  [ 13   2  65]]]\n"
     ]
    }
   ],
   "source": [
    "print(anh)"
   ]
  },
  {
   "cell_type": "code",
   "execution_count": 6,
   "metadata": {},
   "outputs": [],
   "source": [
    "#import cv2\n",
    "#img = cv2.imread('E:/cv_example/example.png', 1)\n",
    "cv2.imshow('example', anh)\n",
    "cv2.waitKey(0)\n",
    "cv2.destroyAllWindows()"
   ]
  },
  {
   "cell_type": "code",
   "execution_count": 7,
   "metadata": {},
   "outputs": [],
   "source": [
    "cv2.imshow('example', anh)"
   ]
  },
  {
   "cell_type": "code",
   "execution_count": null,
   "metadata": {},
   "outputs": [],
   "source": []
  }
 ],
 "metadata": {
  "kernelspec": {
   "display_name": "Python 3",
   "language": "python",
   "name": "python3"
  },
  "language_info": {
   "codemirror_mode": {
    "name": "ipython",
    "version": 3
   },
   "file_extension": ".py",
   "mimetype": "text/x-python",
   "name": "python",
   "nbconvert_exporter": "python",
   "pygments_lexer": "ipython3",
   "version": "3.7.1"
  }
 },
 "nbformat": 4,
 "nbformat_minor": 2
}
