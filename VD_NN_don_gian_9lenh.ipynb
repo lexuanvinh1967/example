{
 "cells": [
  {
   "cell_type": "markdown",
   "metadata": {},
   "source": [
    "Ví dụ 1 mạng noron đơn giản, 1 lớp vào, 1 lớp ra, không có lớp ẩn. Lớp vào có 3 nút, lớp ra có 1 nút.\n",
    "\n",
    "Dữ liệu input - output để huấn luyện:\n",
    "![image.png](attachment:image.png)"
   ]
  },
  {
   "cell_type": "code",
   "execution_count": 5,
   "metadata": {},
   "outputs": [
    {
     "name": "stdout",
     "output_type": "stream",
     "text": [
      "[0.99999855]\n"
     ]
    }
   ],
   "source": [
    "from numpy import exp, array, random, dot\n",
    "X= array([[0, 0, 1], [1, 1, 1], [1, 0, 1], [0, 1, 1]])\n",
    "y = array([[0, 1, 1, 0]]).T\n",
    "#random.seed(1)\n",
    "w = random.random((3, 1))\n",
    "for i in range(1000):\n",
    "    ymu = 1 / (1 + exp(-(dot(X, w))))\n",
    "    w = w - dot(X.T, (ymu- y) * ymu * (1 - ymu))\n",
    "    #w = w - dot(X.T, ymu- y)\n",
    "print (1 / (1 + exp(-(dot(array([1,0,0]), w)))))\n"
   ]
  },
  {
   "cell_type": "code",
   "execution_count": 2,
   "metadata": {},
   "outputs": [
    {
     "name": "stdout",
     "output_type": "stream",
     "text": [
      "[[13.44279813]\n",
      " [-0.40907792]\n",
      " [-6.31353588]]\n"
     ]
    }
   ],
   "source": [
    "print(w)"
   ]
  },
  {
   "cell_type": "code",
   "execution_count": null,
   "metadata": {},
   "outputs": [],
   "source": []
  },
  {
   "cell_type": "code",
   "execution_count": null,
   "metadata": {},
   "outputs": [],
   "source": []
  },
  {
   "cell_type": "code",
   "execution_count": null,
   "metadata": {},
   "outputs": [],
   "source": []
  }
 ],
 "metadata": {
  "kernelspec": {
   "display_name": "Python 3",
   "language": "python",
   "name": "python3"
  },
  "language_info": {
   "codemirror_mode": {
    "name": "ipython",
    "version": 3
   },
   "file_extension": ".py",
   "mimetype": "text/x-python",
   "name": "python",
   "nbconvert_exporter": "python",
   "pygments_lexer": "ipython3",
   "version": "3.7.1"
  }
 },
 "nbformat": 4,
 "nbformat_minor": 2
}
