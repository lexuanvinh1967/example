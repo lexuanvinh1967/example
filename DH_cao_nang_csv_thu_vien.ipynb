{
 "cells": [
  {
   "cell_type": "code",
   "execution_count": 2,
   "metadata": {},
   "outputs": [
    {
     "name": "stdout",
     "output_type": "stream",
     "text": [
      "[0.55920496]\n",
      "-33.73541020580774\n",
      "[48.4677192  50.14533409 51.82294897 54.61897378 57.41499859 58.53340851\n",
      " 60.2110234  61.32943332 63.00704821 64.12545813 65.80307302 66.92148294\n",
      " 68.59909783]\n",
      "0     49\n",
      "1     50\n",
      "2     51\n",
      "3     54\n",
      "4     58\n",
      "5     59\n",
      "6     60\n",
      "7     62\n",
      "8     63\n",
      "9     64\n",
      "10    66\n",
      "11    67\n",
      "12    68\n",
      "Name: nang, dtype: int64\n"
     ]
    }
   ],
   "source": [
    "import numpy as np\n",
    "import pandas as pd\n",
    "from sklearn.linear_model import LinearRegression \n",
    "data = pd.read_csv('G:/My Drive/CT_PYTHON/cao_nang.csv')\n",
    "X=data[['cao']]\n",
    "y=data['nang']\n",
    "MH=LinearRegression()\n",
    "#MH=LinearRegression(fit_intercept=False)\n",
    "MH.fit(X,y)\n",
    "print(MH.coef_)\n",
    "print(MH.intercept_)\n",
    "print(MH.predict(X))\n",
    "print(y)\n"
   ]
  },
  {
   "cell_type": "code",
   "execution_count": null,
   "metadata": {},
   "outputs": [],
   "source": []
  },
  {
   "cell_type": "code",
   "execution_count": null,
   "metadata": {},
   "outputs": [],
   "source": []
  }
 ],
 "metadata": {
  "kernelspec": {
   "display_name": "Python 3",
   "language": "python",
   "name": "python3"
  },
  "language_info": {
   "codemirror_mode": {
    "name": "ipython",
    "version": 3
   },
   "file_extension": ".py",
   "mimetype": "text/x-python",
   "name": "python",
   "nbconvert_exporter": "python",
   "pygments_lexer": "ipython3",
   "version": "3.7.1"
  }
 },
 "nbformat": 4,
 "nbformat_minor": 2
}
