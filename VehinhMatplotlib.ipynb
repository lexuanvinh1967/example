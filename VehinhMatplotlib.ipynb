{
 "cells": [
  {
   "cell_type": "markdown",
   "metadata": {},
   "source": [
    "Bài này trình bày về figure của thư viện Matplotlib theo ngôn ngữ hướng đối tượng.\n",
    "Khi nắm được nguyên tắc, chúng ta sẽ chủ động hơn khi sử dụng thay vì biết vẽ từng hình.\n",
    "Thư viện được sử dụng là matplotlib."
   ]
  },
  {
   "cell_type": "code",
   "execution_count": 2,
   "metadata": {},
   "outputs": [],
   "source": [
    "import matplotlib.pyplot as plt"
   ]
  },
  {
   "cell_type": "markdown",
   "metadata": {},
   "source": [
    "Lệnh import cũng là một lệnh gán trong Python. Biến plt đại diện cho đối tượng matplotlib.pyplot đã được gọi vào bộ nhớ.\n",
    "Một figure như ta thường thấy là một đối tượng của lớp figure trong thư viện matplotlib. Lớp figure được định nghĩa trong module matplotlib.figure, lớp này chứa tất cả những thành phần của một hình vẽ (top level container for all plot elements). Tức là mọi thuộc tính, phương thức của hình vẽ đều được định nghĩa trong lớp này.\n",
    "\n",
    "Để khởi tạo một figure trống, ta chỉ đơn giản gọi phương thức .figure() của plt"
   ]
  },
  {
   "cell_type": "code",
   "execution_count": 13,
   "metadata": {},
   "outputs": [
    {
     "data": {
      "text/plain": [
       "<Figure size 432x288 with 0 Axes>"
      ]
     },
     "metadata": {},
     "output_type": "display_data"
    }
   ],
   "source": [
    "# Khởi tạo một fig trống\n",
    "fig = plt.figure()\n",
    "\n",
    "# Hiện fig lên màn hình\n",
    "plt.show()"
   ]
  },
  {
   "cell_type": "markdown",
   "metadata": {},
   "source": [
    "Thành phần chính của một figure là các axes (những khung nhỏ hơn để vẽ hình lên đó). Một figure có thể chứa một hoặc nhiều axes . Nói cách khác, figure chỉ là khung chứa, chính các axes mới thật sự là nơi các hình vẽ được vẽ lên.\n",
    "\n",
    "Theo ngôn ngữ đối tượng thì: figure có một thuộc tính kiểu list gọi là axes. Danh sách này chứa các axes của figure đó. Mỗi axes là một đối tượng của lớp Axes (lớp này được định nghĩa trong module matplotlib.axes). Mỗi axes có thể chứa một hoặc nhiều hình vẽ (plots).\n",
    "\n",
    "Như vậy, các phần tử như: đường vẽ (plots), các điểm chia (ticks), tên của các trục tọa độ (xlabel, ylabel),… đều là con của axes chứ không phải là của figure. Vì thế, sẽ không có những methods gọi từ figure kiểu như: \n",
    "fig.plot()\n",
    "fig.get_xlabel()\n",
    "fig.set_xticks()"
   ]
  },
  {
   "cell_type": "code",
   "execution_count": 12,
   "metadata": {},
   "outputs": [
    {
     "data": {
      "text/plain": [
       "<AxesSubplot:>"
      ]
     },
     "execution_count": 12,
     "metadata": {},
     "output_type": "execute_result"
    }
   ],
   "source": [
    "\n"
   ]
  },
  {
   "cell_type": "code",
   "execution_count": null,
   "metadata": {},
   "outputs": [],
   "source": []
  }
 ],
 "metadata": {
  "kernelspec": {
   "display_name": "Python 3",
   "language": "python",
   "name": "python3"
  },
  "language_info": {
   "codemirror_mode": {
    "name": "ipython",
    "version": 3
   },
   "file_extension": ".py",
   "mimetype": "text/x-python",
   "name": "python",
   "nbconvert_exporter": "python",
   "pygments_lexer": "ipython3",
   "version": "3.7.1"
  }
 },
 "nbformat": 4,
 "nbformat_minor": 4
}
