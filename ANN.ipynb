{
 "cells": [
  {
   "cell_type": "markdown",
   "metadata": {},
   "source": [
    "Ví dụ 1 (ANN đơn giản)"
   ]
  },
  {
   "cell_type": "code",
   "execution_count": 22,
   "metadata": {},
   "outputs": [
    {
     "name": "stdout",
     "output_type": "stream",
     "text": [
      "finished\n"
     ]
    }
   ],
   "source": [
    "import numpy as np\n",
    "X=np.array([[0,0,1],[1,1,1],[1,0,1],[0,1,1]])\n",
    "y=np.array([[0,1,1,0]]).T\n",
    "w = np.random.random((3,1))\n",
    "for i in range(100000):\n",
    "    z=np.dot(X,w)\n",
    "    O=1/(1+np.exp(-z))\n",
    "    w = w - np.dot(X.T, (O- y) * O * (1 - O))\n",
    "print('finished')"
   ]
  },
  {
   "cell_type": "code",
   "execution_count": 23,
   "metadata": {},
   "outputs": [
    {
     "data": {
      "text/plain": [
       "array([[12.00867681],\n",
       "       [-0.2044436 ],\n",
       "       [-5.80025121]])"
      ]
     },
     "execution_count": 23,
     "metadata": {},
     "output_type": "execute_result"
    }
   ],
   "source": [
    "w"
   ]
  },
  {
   "cell_type": "code",
   "execution_count": 24,
   "metadata": {},
   "outputs": [
    {
     "data": {
      "text/plain": [
       "array([[0.00301768],\n",
       "       [0.99753717],\n",
       "       [0.99799163],\n",
       "       [0.00246108]])"
      ]
     },
     "execution_count": 24,
     "metadata": {},
     "output_type": "execute_result"
    }
   ],
   "source": [
    "O"
   ]
  },
  {
   "cell_type": "code",
   "execution_count": 2,
   "metadata": {},
   "outputs": [
    {
     "name": "stdout",
     "output_type": "stream",
     "text": [
      "[0.00966701]\n"
     ]
    }
   ],
   "source": [
    "z=np.dot(X[0],w)\n",
    "O=1/(1+np.exp(-z))\n",
    "print(O)"
   ]
  },
  {
   "cell_type": "code",
   "execution_count": 3,
   "metadata": {},
   "outputs": [
    {
     "data": {
      "text/plain": [
       "array([[ 9.25477695e-05],\n",
       "       [-9.48101525e-03],\n",
       "       [-9.48101525e-03],\n",
       "       [ 9.25477695e-05]])"
      ]
     },
     "execution_count": 3,
     "metadata": {},
     "output_type": "execute_result"
    }
   ],
   "source": [
    "(O-y)*O*(1-O)"
   ]
  },
  {
   "cell_type": "code",
   "execution_count": 4,
   "metadata": {},
   "outputs": [
    {
     "data": {
      "text/plain": [
       "array([[0, 0, 1],\n",
       "       [1, 1, 1],\n",
       "       [1, 0, 1],\n",
       "       [0, 1, 1]])"
      ]
     },
     "execution_count": 4,
     "metadata": {},
     "output_type": "execute_result"
    }
   ],
   "source": [
    "X"
   ]
  },
  {
   "cell_type": "code",
   "execution_count": 5,
   "metadata": {},
   "outputs": [
    {
     "name": "stdout",
     "output_type": "stream",
     "text": [
      "[0.00966701]\n",
      "[0.99211832]\n",
      "[0.99359138]\n",
      "[0.00786292]\n"
     ]
    }
   ],
   "source": [
    "for i in range(4):\n",
    "    z=np.dot(X[i],w)\n",
    "    O=1/(1+np.exp(-z))\n",
    "    print(O)"
   ]
  },
  {
   "cell_type": "code",
   "execution_count": 25,
   "metadata": {},
   "outputs": [
    {
     "name": "stdout",
     "output_type": "stream",
     "text": [
      "finished\n"
     ]
    }
   ],
   "source": [
    "import numpy as np\n",
    "X=np.array([[0,0],[1,1],[1,0],[0,1]])\n",
    "y=np.array([[0,0,1,1,]]).T\n",
    "w = np.random.random((2,1))\n",
    "for i in range(1000000):\n",
    "    z=np.dot(X,w)\n",
    "    O=1/(1+np.exp(-z))\n",
    "    w = w - np.dot(X.T, (O- y) * O * (1 - O))\n",
    "print('finished')\n"
   ]
  },
  {
   "cell_type": "code",
   "execution_count": 27,
   "metadata": {},
   "outputs": [
    {
     "data": {
      "text/plain": [
       "array([[0.5],\n",
       "       [0.5],\n",
       "       [0.5],\n",
       "       [0.5]])"
      ]
     },
     "execution_count": 27,
     "metadata": {},
     "output_type": "execute_result"
    }
   ],
   "source": [
    "O"
   ]
  },
  {
   "cell_type": "code",
   "execution_count": 20,
   "metadata": {},
   "outputs": [
    {
     "name": "stdout",
     "output_type": "stream",
     "text": [
      "[0.5]\n",
      "[0.5]\n",
      "[0.5]\n",
      "[0.5]\n"
     ]
    }
   ],
   "source": [
    "for i in range(4):\n",
    "    z=np.dot(X[i],w)\n",
    "    O=1/(1+np.exp(-z))\n",
    "    print(O)"
   ]
  },
  {
   "cell_type": "code",
   "execution_count": null,
   "metadata": {},
   "outputs": [],
   "source": []
  },
  {
   "cell_type": "code",
   "execution_count": null,
   "metadata": {},
   "outputs": [],
   "source": []
  },
  {
   "cell_type": "code",
   "execution_count": null,
   "metadata": {},
   "outputs": [],
   "source": []
  }
 ],
 "metadata": {
  "kernelspec": {
   "display_name": "Python 3",
   "language": "python",
   "name": "python3"
  },
  "language_info": {
   "codemirror_mode": {
    "name": "ipython",
    "version": 3
   },
   "file_extension": ".py",
   "mimetype": "text/x-python",
   "name": "python",
   "nbconvert_exporter": "python",
   "pygments_lexer": "ipython3",
   "version": "3.7.1"
  }
 },
 "nbformat": 4,
 "nbformat_minor": 2
}
