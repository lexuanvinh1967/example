{
 "cells": [
  {
   "cell_type": "code",
   "execution_count": 3,
   "metadata": {},
   "outputs": [],
   "source": [
    "from sklearn.datasets import load_digits"
   ]
  },
  {
   "cell_type": "code",
   "execution_count": 4,
   "metadata": {},
   "outputs": [],
   "source": [
    "data = load_digits()"
   ]
  },
  {
   "cell_type": "code",
   "execution_count": 5,
   "metadata": {},
   "outputs": [],
   "source": [
    "X=data.data"
   ]
  },
  {
   "cell_type": "code",
   "execution_count": 6,
   "metadata": {},
   "outputs": [
    {
     "data": {
      "text/plain": [
       "(1797, 64)"
      ]
     },
     "execution_count": 6,
     "metadata": {},
     "output_type": "execute_result"
    }
   ],
   "source": [
    "X.shape"
   ]
  },
  {
   "cell_type": "code",
   "execution_count": 7,
   "metadata": {},
   "outputs": [],
   "source": [
    "import matplotlib.pyplot as plt"
   ]
  },
  {
   "cell_type": "code",
   "execution_count": 9,
   "metadata": {},
   "outputs": [
    {
     "data": {
      "text/plain": [
       "<matplotlib.image.AxesImage at 0x23068c4f320>"
      ]
     },
     "execution_count": 9,
     "metadata": {},
     "output_type": "execute_result"
    },
    {
     "data": {
      "image/png": "[encoded data removed]",
      "text/plain": [
       "<Figure size 432x288 with 1 Axes>"
      ]
     },
     "metadata": {
      "needs_background": "light"
     },
     "output_type": "display_data"
    }
   ],
   "source": [
    "plt.imshow(X[100].reshape(8,8))\n",
    "#plt.imshow(X_test[i].reshape(28,28), cmap='gray')"
   ]
  },
  {
   "cell_type": "code",
   "execution_count": 10,
   "metadata": {},
   "outputs": [],
   "source": [
    "from sklearn.cluster import KMeans"
   ]
  },
  {
   "cell_type": "code",
   "execution_count": 11,
   "metadata": {},
   "outputs": [],
   "source": [
    "model = KMeans(n_clusters=10)"
   ]
  },
  {
   "cell_type": "code",
   "execution_count": 12,
   "metadata": {},
   "outputs": [
    {
     "data": {
      "text/plain": [
       "KMeans(n_clusters=10)"
      ]
     },
     "execution_count": 12,
     "metadata": {},
     "output_type": "execute_result"
    }
   ],
   "source": [
    "model.fit(X)"
   ]
  },
  {
   "cell_type": "code",
   "execution_count": 14,
   "metadata": {},
   "outputs": [
    {
     "data": {
      "text/plain": [
       "array([4, 7, 7, ..., 7, 3, 3])"
      ]
     },
     "execution_count": 14,
     "metadata": {},
     "output_type": "execute_result"
    }
   ],
   "source": [
    "ymu=model.predict(X)\n",
    "ymu"
   ]
  },
  {
   "cell_type": "code",
   "execution_count": 23,
   "metadata": {},
   "outputs": [
    {
     "data": {
      "text/plain": [
       "array([0, 1, 2, ..., 8, 9, 8])"
      ]
     },
     "execution_count": 23,
     "metadata": {},
     "output_type": "execute_result"
    }
   ],
   "source": [
    "y=data.target\n",
    "y"
   ]
  },
  {
   "cell_type": "code",
   "execution_count": 34,
   "metadata": {},
   "outputs": [],
   "source": [
    "# Đoạn này để ví dụ\n",
    "Xrange=[]\n",
    "for i in range(1000):\n",
    "    if ymu[i]==1:\n",
    "        Xrange.append(i)\n",
    "        print(\"abc\")\n"
   ]
  },
  {
   "cell_type": "code",
   "execution_count": 35,
   "metadata": {},
   "outputs": [
    {
     "data": {
      "text/plain": [
       "[12,\n",
       " 22,\n",
       " 84,\n",
       " 113,\n",
       " 132,\n",
       " 142,\n",
       " 152,\n",
       " 180,\n",
       " 181,\n",
       " 184,\n",
       " 187,\n",
       " 205,\n",
       " 207,\n",
       " 214,\n",
       " 241,\n",
       " 243,\n",
       " 244,\n",
       " 258,\n",
       " 268,\n",
       " 278,\n",
       " 306,\n",
       " 307,\n",
       " 310,\n",
       " 313,\n",
       " 331,\n",
       " 333,\n",
       " 340,\n",
       " 369,\n",
       " 371,\n",
       " 372,\n",
       " 388,\n",
       " 398,\n",
       " 408,\n",
       " 436,\n",
       " 437,\n",
       " 440,\n",
       " 442,\n",
       " 443,\n",
       " 461,\n",
       " 463,\n",
       " 470,\n",
       " 499,\n",
       " 501,\n",
       " 517,\n",
       " 518,\n",
       " 527,\n",
       " 528,\n",
       " 537,\n",
       " 538,\n",
       " 558,\n",
       " 566,\n",
       " 567,\n",
       " 570,\n",
       " 572,\n",
       " 573,\n",
       " 591,\n",
       " 593,\n",
       " 596,\n",
       " 600,\n",
       " 601,\n",
       " 606,\n",
       " 609,\n",
       " 623,\n",
       " 629,\n",
       " 631,\n",
       " 632,\n",
       " 648,\n",
       " 658,\n",
       " 668,\n",
       " 697,\n",
       " 723,\n",
       " 730,\n",
       " 759,\n",
       " 761,\n",
       " 762,\n",
       " 778,\n",
       " 788,\n",
       " 798,\n",
       " 826,\n",
       " 827,\n",
       " 830,\n",
       " 832,\n",
       " 833,\n",
       " 851,\n",
       " 853,\n",
       " 872,\n",
       " 889,\n",
       " 892,\n",
       " 906,\n",
       " 907,\n",
       " 916,\n",
       " 917,\n",
       " 926,\n",
       " 927,\n",
       " 952,\n",
       " 953,\n",
       " 956,\n",
       " 958,\n",
       " 959,\n",
       " 972,\n",
       " 977,\n",
       " 979,\n",
       " 982,\n",
       " 986,\n",
       " 987,\n",
       " 991,\n",
       " 994]"
      ]
     },
     "execution_count": 35,
     "metadata": {},
     "output_type": "execute_result"
    }
   ],
   "source": [
    "Xrange"
   ]
  },
  {
   "cell_type": "code",
   "execution_count": 36,
   "metadata": {},
   "outputs": [
    {
     "name": "stdout",
     "output_type": "stream",
     "text": [
      "12 2\n",
      "22 2\n",
      "84 2\n",
      "113 2\n",
      "132 2\n",
      "142 2\n",
      "152 2\n",
      "180 2\n",
      "181 2\n",
      "184 2\n",
      "187 2\n",
      "205 2\n",
      "207 2\n",
      "214 2\n",
      "241 2\n",
      "243 2\n",
      "244 2\n",
      "258 2\n",
      "268 2\n",
      "278 2\n",
      "306 2\n",
      "307 2\n",
      "310 2\n",
      "313 2\n",
      "331 2\n",
      "333 2\n",
      "340 2\n",
      "369 2\n",
      "371 2\n",
      "372 2\n",
      "388 2\n",
      "398 2\n",
      "408 2\n",
      "436 2\n",
      "437 2\n",
      "440 2\n",
      "442 1\n",
      "443 2\n",
      "461 2\n",
      "463 2\n",
      "470 2\n",
      "499 2\n",
      "501 2\n",
      "517 1\n",
      "518 2\n",
      "527 1\n",
      "528 2\n",
      "537 1\n",
      "538 2\n",
      "558 1\n",
      "566 2\n",
      "567 2\n",
      "570 2\n",
      "572 1\n",
      "573 2\n",
      "591 2\n",
      "593 2\n",
      "596 1\n",
      "600 2\n",
      "601 1\n",
      "606 1\n",
      "609 1\n",
      "623 1\n",
      "629 2\n",
      "631 2\n",
      "632 2\n",
      "648 2\n",
      "658 2\n",
      "668 2\n",
      "697 2\n",
      "723 2\n",
      "730 2\n",
      "759 2\n",
      "761 2\n",
      "762 2\n",
      "778 2\n",
      "788 2\n",
      "798 2\n",
      "826 2\n",
      "827 2\n",
      "830 2\n",
      "832 1\n",
      "833 2\n",
      "851 2\n",
      "853 2\n",
      "872 8\n",
      "889 2\n",
      "892 2\n",
      "906 1\n",
      "907 2\n",
      "916 1\n",
      "917 2\n",
      "926 1\n",
      "927 2\n",
      "952 1\n",
      "953 2\n",
      "956 2\n",
      "958 1\n",
      "959 2\n",
      "972 1\n",
      "977 2\n",
      "979 2\n",
      "982 1\n",
      "986 2\n",
      "987 1\n",
      "991 1\n",
      "994 1\n"
     ]
    }
   ],
   "source": [
    "for i in range(1000):\n",
    "    if i in Xrange:\n",
    "        print(i, y[i]);\n"
   ]
  },
  {
   "cell_type": "code",
   "execution_count": 34,
   "metadata": {},
   "outputs": [
    {
     "name": "stdout",
     "output_type": "stream",
     "text": [
      "0\n",
      "10\n",
      "20\n",
      "30\n",
      "36\n",
      "48\n",
      "49\n",
      "55\n",
      "72\n",
      "78\n",
      "79\n"
     ]
    }
   ],
   "source": [
    "Xrange\n",
    "for i in Xrange:\n",
    "    print(i)"
   ]
  },
  {
   "cell_type": "code",
   "execution_count": 31,
   "metadata": {},
   "outputs": [
    {
     "data": {
      "image/png": "[encoded data removed]",
      "text/plain": [
       "<Figure size 432x288 with 1 Axes>"
      ]
     },
     "metadata": {
      "needs_background": "light"
     },
     "output_type": "display_data"
    }
   ],
   "source": [
    "\n",
    "for i in Xrange:\n",
    "    plt.imshow(X[i].reshape(8,8))\n",
    "plt.show()"
   ]
  },
  {
   "cell_type": "code",
   "execution_count": 35,
   "metadata": {},
   "outputs": [
    {
     "ename": "IndexError",
     "evalue": "list index out of range",
     "output_type": "error",
     "traceback": [
      "\u001b[1;31m---------------------------------------------------------------------------\u001b[0m",
      "\u001b[1;31mIndexError\u001b[0m                                Traceback (most recent call last)",
      "\u001b[1;32m<ipython-input-35-7c6a1d9eeca5>\u001b[0m in \u001b[0;36m<module>\u001b[1;34m\u001b[0m\n\u001b[0;32m      4\u001b[0m     \u001b[0mplt\u001b[0m\u001b[1;33m.\u001b[0m\u001b[0msubplot\u001b[0m\u001b[1;33m(\u001b[0m\u001b[1;36m5\u001b[0m\u001b[1;33m,\u001b[0m\u001b[1;36m5\u001b[0m\u001b[1;33m,\u001b[0m\u001b[0mj\u001b[0m\u001b[1;33m+\u001b[0m\u001b[1;36m1\u001b[0m\u001b[1;33m)\u001b[0m\u001b[1;33m\u001b[0m\u001b[1;33m\u001b[0m\u001b[0m\n\u001b[0;32m      5\u001b[0m     \u001b[0mj\u001b[0m\u001b[1;33m=\u001b[0m\u001b[0mj\u001b[0m\u001b[1;33m+\u001b[0m\u001b[1;36m1\u001b[0m\u001b[1;33m\u001b[0m\u001b[1;33m\u001b[0m\u001b[0m\n\u001b[1;32m----> 6\u001b[1;33m     \u001b[0mplt\u001b[0m\u001b[1;33m.\u001b[0m\u001b[0mimshow\u001b[0m\u001b[1;33m(\u001b[0m\u001b[0mX\u001b[0m\u001b[1;33m[\u001b[0m\u001b[0mXrange\u001b[0m\u001b[1;33m[\u001b[0m\u001b[0mi\u001b[0m\u001b[1;33m]\u001b[0m\u001b[1;33m]\u001b[0m\u001b[1;33m.\u001b[0m\u001b[0mreshape\u001b[0m\u001b[1;33m(\u001b[0m\u001b[1;36m8\u001b[0m\u001b[1;33m,\u001b[0m\u001b[1;36m8\u001b[0m\u001b[1;33m)\u001b[0m\u001b[1;33m)\u001b[0m\u001b[1;33m\u001b[0m\u001b[1;33m\u001b[0m\u001b[0m\n\u001b[0m\u001b[0;32m      7\u001b[0m \u001b[0mplt\u001b[0m\u001b[1;33m.\u001b[0m\u001b[0mshow\u001b[0m\u001b[1;33m(\u001b[0m\u001b[1;33m)\u001b[0m\u001b[1;33m\u001b[0m\u001b[1;33m\u001b[0m\u001b[0m\n",
      "\u001b[1;31mIndexError\u001b[0m: list index out of range"
     ]
    },
    {
     "data": {
      "image/png": "[encoded data removed]",
      "text/plain": [
       "<Figure size 360x360 with 3 Axes>"
      ]
     },
     "metadata": {
      "needs_background": "light"
     },
     "output_type": "display_data"
    }
   ],
   "source": [
    "plt.figure(figsize=(5,5))\n",
    "j=0\n",
    "for i in Xrange:\n",
    "    plt.subplot(5,5,j+1)\n",
    "    j=j+1\n",
    "    plt.imshow(X[Xrange[i]].reshape(8,8))\n",
    "plt.show()"
   ]
  },
  {
   "cell_type": "code",
   "execution_count": null,
   "metadata": {},
   "outputs": [],
   "source": []
  }
 ],
 "metadata": {
  "kernelspec": {
   "display_name": "Python 3",
   "language": "python",
   "name": "python3"
  },
  "language_info": {
   "codemirror_mode": {
    "name": "ipython",
    "version": 3
   },
   "file_extension": ".py",
   "mimetype": "text/x-python",
   "name": "python",
   "nbconvert_exporter": "python",
   "pygments_lexer": "ipython3",
   "version": "3.7.1"
  }
 },
 "nbformat": 4,
 "nbformat_minor": 4
}
